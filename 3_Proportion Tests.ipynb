{
 "cells": [
  {
   "attachments": {},
   "cell_type": "markdown",
   "metadata": {},
   "source": [
    "# Proportion Tests"
   ]
  },
  {
   "attachments": {},
   "cell_type": "markdown",
   "metadata": {},
   "source": [
    "# 1. One-sample proportion tests"
   ]
  },
  {
   "attachments": {},
   "cell_type": "markdown",
   "metadata": {},
   "source": [
    "<b>1.1 t for proportions?</b>\n",
    "\n",
    "Some of the hypothesis tests in this course have used a  test statistic <i>z</i> and some have used a <i>t</i> test statistic. To get the correct p-value, you need to use the right type of test statistic.\n",
    "\n",
    "Do tests of proportion(s) use a  or a  test statistic and why?\n",
    "\n",
    "- <i>t</i> : There are two estimates used for unknown values in the test statistic for proportion(s).\n",
    "\n",
    "- <i>z</i> : Since the population standard deviation is always known for proportions, we always compute z-scores.\n",
    "\n",
    "- <b><font color='green'><i>z</i> : The test statistic for proportion(s) has only one estimate of a parameter instead of two.</font></b>\n",
    "\n",
    "- <i>t</i> : Proportions are ratios, so you need to estimate the numerator and the denominator.\n",
    "\n",
    "The t-test is needed for tests of mean(s) since you are estimating two unknown quantities, which leads to more variability."
   ]
  },
  {
   "attachments": {},
   "cell_type": "markdown",
   "metadata": {},
   "source": [
    "<b>1.2 Test for single proportions</b>\n",
    "\n",
    "In Chapter 1, you calculated a p-value for a test hypothesizing that the proportion of late shipments was greater than 6%. In that chapter, you used a bootstrap distribution to estimate the standard error of the statistic. An alternative is to use an equation for the standard error based on the sample proportion, hypothesized proportion, and sample size.\n",
    "\n",
    "$$\n",
    "z = \\frac{\\hat{p}-p_{o}}{\\sqrt{\\frac{p_{o}*(1-p_{o})}{n}}}\n",
    "$$"
   ]
  },
  {
   "cell_type": "code",
   "execution_count": 76,
   "metadata": {},
   "outputs": [
    {
     "name": "stdout",
     "output_type": "stream",
     "text": [
      "        id       country managed_by  fulfill_via vendor_inco_term  \\\n",
      "0  36203.0       Nigeria   PMO - US  Direct Drop              EXW   \n",
      "1  30998.0      Botswana   PMO - US  Direct Drop              EXW   \n",
      "2  69871.0       Vietnam   PMO - US  Direct Drop              EXW   \n",
      "3  17648.0  South Africa   PMO - US  Direct Drop              DDP   \n",
      "4   5647.0        Uganda   PMO - US  Direct Drop              EXW   \n",
      "\n",
      "  shipment_mode  late_delivery late product_group    sub_classification  ...  \\\n",
      "0           Air            1.0  Yes          HRDT              HIV test  ...   \n",
      "1           Air            0.0   No          HRDT              HIV test  ...   \n",
      "2           Air            0.0   No           ARV                 Adult  ...   \n",
      "3         Ocean            0.0   No           ARV                 Adult  ...   \n",
      "4           Air            0.0   No          HRDT  HIV test - Ancillary  ...   \n",
      "\n",
      "  line_item_quantity line_item_value pack_price unit_price  \\\n",
      "0             2996.0       266644.00      89.00       0.89   \n",
      "1               25.0          800.00      32.00       1.60   \n",
      "2            22925.0       110040.00       4.80       0.08   \n",
      "3           152535.0       361507.95       2.37       0.04   \n",
      "4              850.0            8.50       0.01       0.00   \n",
      "\n",
      "             manufacturing_site first_line_designation  weight_kilograms  \\\n",
      "0       Alere Medical Co., Ltd.                    Yes            1426.0   \n",
      "1          Trinity Biotech, Plc                    Yes              10.0   \n",
      "2  Hetero Unit III Hyderabad IN                    Yes            3723.0   \n",
      "3     Aurobindo Unit III, India                    Yes            7698.0   \n",
      "4               Inverness Japan                    Yes              56.0   \n",
      "\n",
      "   freight_cost_usd  freight_cost_groups  line_item_insurance_usd  \n",
      "0          33279.83            expensive                   373.83  \n",
      "1            559.89           reasonable                     1.72  \n",
      "2          19056.13            expensive                   181.57  \n",
      "3          11372.23            expensive                   779.41  \n",
      "4            360.00           reasonable                     0.01  \n",
      "\n",
      "[5 rows x 27 columns]\n"
     ]
    }
   ],
   "source": [
    "# Import the late_shipment dataframe\n",
    "import pandas as pd\n",
    "import numpy as np\n",
    "\n",
    "late_shipments = pd.read_feather(\"C:\\\\Users\\\\yazan\\\\Desktop\\\\Data_Analytics\\\\9-Introduction to Hypothesis Testing\\\\Datasets\\\\late_shipments.feather\")\n",
    "print(late_shipments.head())"
   ]
  },
  {
   "cell_type": "code",
   "execution_count": 77,
   "metadata": {},
   "outputs": [
    {
     "name": "stdout",
     "output_type": "stream",
     "text": [
      "0.44703503936503364\n"
     ]
    }
   ],
   "source": [
    "from scipy.stats import norm\n",
    "\n",
    "# Hypothesize that the proportion of late shipments is 6%\n",
    "p_0 = 0.06\n",
    "\n",
    "# Calculate the sample proportion of late shipments\n",
    "p_hat = (late_shipments['late'] == \"Yes\").mean()\n",
    "\n",
    "# Calculate the sample size\n",
    "n = len(late_shipments)\n",
    "\n",
    "# Calculate the numerator and denominator of the test statistic\n",
    "numerator = p_hat - p_0\n",
    "denominator = np.sqrt(p_0 * (1 - p_0) / n)\n",
    "\n",
    "# Calculate the test statistic\n",
    "z_score = numerator / denominator\n",
    "\n",
    "# Calculate the p-value from the z-score\n",
    "p_value = 1 - norm.cdf(z_score)\n",
    "\n",
    "# Print the p-value\n",
    "print(p_value)"
   ]
  },
  {
   "attachments": {},
   "cell_type": "markdown",
   "metadata": {},
   "source": [
    "While bootstrapping can be used to estimate the standard error of any statistic, it is computationally intensive. For proportions, using a simple equation of the hypothesized proportion and sample size is easier to compute."
   ]
  },
  {
   "attachments": {},
   "cell_type": "markdown",
   "metadata": {},
   "source": [
    "# 2. Two-sample proportion test"
   ]
  },
  {
   "attachments": {},
   "cell_type": "markdown",
   "metadata": {},
   "source": [
    "<b>2.1 Test of two proportions</b>\n",
    "\n",
    "You may wonder if the amount paid for freight affects whether or not the shipment was late. Recall that in the late_shipments dataset, whether or not the shipment was late is stored in the late column. Freight costs are stored in the freight_cost_group column, and the categories are \"expensive\" and \"reasonable\".\n",
    "\n",
    "The hypotheses to test, with \"late\" corresponding to the proportion of late shipments for that group, are\n",
    "\n",
    "<i>H<sub>o</suc></i> : <i>late<sub>expensive</suc></i> - <i>late<sub>resonable</suc></i> = 0\n",
    "\n",
    "<i>H<sub>A</suc></i> : <i>late<sub>expensive</suc></i> - <i>late<sub>resonable</suc></i> > 0\n",
    "\n",
    "p_hats contains the estimates of population proportions (sample proportions) for each freight_cost_group:\n",
    "\n",
    "```python:\n",
    "freight_cost_group  late\n",
    "expensive           Yes     0.082569\n",
    "reasonable          Yes     0.035165\n",
    "Name: late, dtype: float64\n",
    "```\n",
    "ns contains the sample sizes for these groups:\n",
    "\n",
    "```python:\n",
    "freight_cost_group\n",
    "expensive     545\n",
    "reasonable    455\n",
    "Name: late, dtype: int64\n",
    "```"
   ]
  },
  {
   "cell_type": "code",
   "execution_count": 78,
   "metadata": {},
   "outputs": [
    {
     "name": "stdout",
     "output_type": "stream",
     "text": [
      "freight_cost_groups  late\n",
      "expensive            No      0.920904\n",
      "                     Yes     0.079096\n",
      "reasonable           No      0.964835\n",
      "                     Yes     0.035165\n",
      "Name: late, dtype: float64\n",
      "freight_cost_groups\n",
      "expensive     531\n",
      "reasonable    455\n",
      "Name: late, dtype: int64\n"
     ]
    }
   ],
   "source": [
    "p_hats = late_shipments.groupby('freight_cost_groups')['late'].value_counts(normalize = True)\n",
    "print(p_hats)\n",
    "\n",
    "ns = late_shipments.groupby('freight_cost_groups')['late'].count()\n",
    "print(ns)"
   ]
  },
  {
   "cell_type": "code",
   "execution_count": 81,
   "metadata": {},
   "outputs": [
    {
     "name": "stdout",
     "output_type": "stream",
     "text": [
      "z_score =  2.922648567784529\n",
      "p_value =  0.0017353400023595311\n"
     ]
    }
   ],
   "source": [
    "# Calculate the pooled estimate of the population proportion\n",
    "p_hat = (p_hats[(\"reasonable\", \"Yes\")] * ns[\"reasonable\"] + p_hats[(\"expensive\", \"Yes\")] * ns[\"expensive\"]) / (ns[\"reasonable\"] + ns[\"expensive\"])\n",
    "\n",
    "# Calculate p_hat one minus p_hat\n",
    "p_hat_times_not_p_hat = p_hat * (1 - p_hat)\n",
    "\n",
    "# Divide this by each of the sample sizes and then sum\n",
    "p_hat_times_not_p_hat_over_ns = p_hat_times_not_p_hat / ns[\"expensive\"] + p_hat_times_not_p_hat / ns[\"reasonable\"]\n",
    "\n",
    "# Calculate the standard error\n",
    "std_error = np.sqrt(p_hat_times_not_p_hat_over_ns)\n",
    "\n",
    "# Calculate the z-score\n",
    "z_score = (p_hats[('expensive', 'Yes')] - p_hats[('reasonable', 'Yes')]) / std_error\n",
    "print('z_score = ',z_score)\n",
    "\n",
    "# Calculate the p-value from the z-score\n",
    "p_value = 1-norm.cdf(z_score)\n",
    "\n",
    "# Print p_value\n",
    "print('p_value = ', p_value)"
   ]
  },
  {
   "attachments": {},
   "cell_type": "markdown",
   "metadata": {},
   "source": [
    "You can calculate a p-value for a two sample proportion test using (a rather exhausting amount of) arithmetic. This tiny p-value leads us to suspect there is a larger proportion of late shipments for expensive freight compared to reasonable freight."
   ]
  },
  {
   "attachments": {},
   "cell_type": "markdown",
   "metadata": {},
   "source": [
    "<b>2.2 proportions_ztest() for two samples</b>\n",
    "\n",
    "That took a lot of effort to calculate the p-value, so while it is useful to see how the calculations work, it isn't practical to do in real-world analyses. For daily usage, it's better to use the statsmodels package.\n",
    "\n",
    "Recall the hypotheses.\n",
    "\n",
    "<i>H<sub>o</suc></i> : <i>late<sub>expensive</suc></i> - <i>late<sub>resonable</suc></i> = 0\n",
    "\n",
    "<i>H<sub>A</suc></i> : <i>late<sub>expensive</suc></i> - <i>late<sub>resonable</suc></i> > 0"
   ]
  },
  {
   "cell_type": "code",
   "execution_count": 80,
   "metadata": {},
   "outputs": [
    {
     "name": "stdout",
     "output_type": "stream",
     "text": [
      "3.1190401865206128 0.0009072060637051224\n"
     ]
    }
   ],
   "source": [
    "# Count the late column values for each freight_cost_group\n",
    "late_by_freight_cost_group = late_shipments.groupby(\"freight_cost_groups\")['late'].value_counts()\n",
    "\n",
    "# Create an array of the \"Yes\" counts for each freight_cost_group\n",
    "success_counts = np.array([45, 16])\n",
    "\n",
    "# Create an array of the total number of rows in each freight_cost_group\n",
    "n = np.array([45 + 500, 16 + 439])\n",
    "\n",
    "# Run a z-test on the two proportions\n",
    "from statsmodels.stats.proportion import proportions_ztest\n",
    "stat, p_value = proportions_ztest(count=success_counts, nobs=n, alternative='larger')\n",
    "\n",
    "# Print the results\n",
    "print(stat, p_value)"
   ]
  }
 ],
 "metadata": {
  "kernelspec": {
   "display_name": "Python 3",
   "language": "python",
   "name": "python3"
  },
  "language_info": {
   "codemirror_mode": {
    "name": "ipython",
    "version": 3
   },
   "file_extension": ".py",
   "mimetype": "text/x-python",
   "name": "python",
   "nbconvert_exporter": "python",
   "pygments_lexer": "ipython3",
   "version": "3.10.9"
  },
  "orig_nbformat": 4,
  "vscode": {
   "interpreter": {
    "hash": "cd85abab4e42ed52d78993b1b54e037968b74145d44eb01d9e116517c8fc42a2"
   }
  }
 },
 "nbformat": 4,
 "nbformat_minor": 2
}
