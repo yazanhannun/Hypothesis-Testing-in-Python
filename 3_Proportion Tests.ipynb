{
 "cells": [
  {
   "attachments": {},
   "cell_type": "markdown",
   "metadata": {},
   "source": [
    "# Proportion Tests"
   ]
  },
  {
   "attachments": {},
   "cell_type": "markdown",
   "metadata": {},
   "source": [
    "# 1. One-sample proportion tests"
   ]
  },
  {
   "attachments": {},
   "cell_type": "markdown",
   "metadata": {},
   "source": [
    "<b>1.1 t for proportions?</b>\n",
    "\n",
    "Some of the hypothesis tests in this course have used a  test statistic <i>z</i> and some have used a <i>t</i> test statistic. To get the correct p-value, you need to use the right type of test statistic.\n",
    "\n",
    "Do tests of proportion(s) use a  or a  test statistic and why?\n",
    "\n",
    "- <i>t</i> : There are two estimates used for unknown values in the test statistic for proportion(s).\n",
    "\n",
    "- <i>z</i> : Since the population standard deviation is always known for proportions, we always compute z-scores.\n",
    "\n",
    "- <b><font color='green'><i>z</i> : The test statistic for proportion(s) has only one estimate of a parameter instead of two.</font></b>\n",
    "\n",
    "- <i>t</i> : Proportions are ratios, so you need to estimate the numerator and the denominator.\n",
    "\n",
    "The t-test is needed for tests of mean(s) since you are estimating two unknown quantities, which leads to more variability."
   ]
  },
  {
   "attachments": {},
   "cell_type": "markdown",
   "metadata": {},
   "source": [
    "<b>1.2 Test for single proportions</b>\n",
    "\n",
    "In Chapter 1, you calculated a p-value for a test hypothesizing that the proportion of late shipments was greater than 6%. In that chapter, you used a bootstrap distribution to estimate the standard error of the statistic. An alternative is to use an equation for the standard error based on the sample proportion, hypothesized proportion, and sample size.\n",
    "\n",
    "$$\n",
    "z = \\frac{\\hat{p}-p_{o}}{\\sqrt{\\frac{p_{o}*(1-p_{o})}{n}}}\n",
    "$$"
   ]
  },
  {
   "cell_type": "code",
   "execution_count": 144,
   "metadata": {},
   "outputs": [
    {
     "name": "stdout",
     "output_type": "stream",
     "text": [
      "        id       country managed_by  fulfill_via vendor_inco_term  \\\n",
      "0  36203.0       Nigeria   PMO - US  Direct Drop              EXW   \n",
      "1  30998.0      Botswana   PMO - US  Direct Drop              EXW   \n",
      "2  69871.0       Vietnam   PMO - US  Direct Drop              EXW   \n",
      "3  17648.0  South Africa   PMO - US  Direct Drop              DDP   \n",
      "4   5647.0        Uganda   PMO - US  Direct Drop              EXW   \n",
      "\n",
      "  shipment_mode  late_delivery late product_group    sub_classification  ...  \\\n",
      "0           Air            1.0  Yes          HRDT              HIV test  ...   \n",
      "1           Air            0.0   No          HRDT              HIV test  ...   \n",
      "2           Air            0.0   No           ARV                 Adult  ...   \n",
      "3         Ocean            0.0   No           ARV                 Adult  ...   \n",
      "4           Air            0.0   No          HRDT  HIV test - Ancillary  ...   \n",
      "\n",
      "  line_item_quantity line_item_value pack_price unit_price  \\\n",
      "0             2996.0       266644.00      89.00       0.89   \n",
      "1               25.0          800.00      32.00       1.60   \n",
      "2            22925.0       110040.00       4.80       0.08   \n",
      "3           152535.0       361507.95       2.37       0.04   \n",
      "4              850.0            8.50       0.01       0.00   \n",
      "\n",
      "             manufacturing_site first_line_designation  weight_kilograms  \\\n",
      "0       Alere Medical Co., Ltd.                    Yes            1426.0   \n",
      "1          Trinity Biotech, Plc                    Yes              10.0   \n",
      "2  Hetero Unit III Hyderabad IN                    Yes            3723.0   \n",
      "3     Aurobindo Unit III, India                    Yes            7698.0   \n",
      "4               Inverness Japan                    Yes              56.0   \n",
      "\n",
      "   freight_cost_usd  freight_cost_groups  line_item_insurance_usd  \n",
      "0          33279.83            expensive                   373.83  \n",
      "1            559.89           reasonable                     1.72  \n",
      "2          19056.13            expensive                   181.57  \n",
      "3          11372.23            expensive                   779.41  \n",
      "4            360.00           reasonable                     0.01  \n",
      "\n",
      "[5 rows x 27 columns]\n"
     ]
    }
   ],
   "source": [
    "# Import the late_shipment dataframe\n",
    "import pandas as pd\n",
    "import numpy as np\n",
    "\n",
    "late_shipments = pd.read_feather(\"C:\\\\Users\\\\yazan\\\\Desktop\\\\Data_Analytics\\\\9-Introduction to Hypothesis Testing\\\\Datasets\\\\late_shipments.feather\")\n",
    "print(late_shipments.head())"
   ]
  },
  {
   "cell_type": "code",
   "execution_count": 145,
   "metadata": {},
   "outputs": [
    {
     "name": "stdout",
     "output_type": "stream",
     "text": [
      "0.44703503936503364\n"
     ]
    }
   ],
   "source": [
    "from scipy.stats import norm\n",
    "\n",
    "# Hypothesize that the proportion of late shipments is 6%\n",
    "p_0 = 0.06\n",
    "\n",
    "# Calculate the sample proportion of late shipments\n",
    "p_hat = (late_shipments['late'] == \"Yes\").mean()\n",
    "\n",
    "# Calculate the sample size\n",
    "n = len(late_shipments)\n",
    "\n",
    "# Calculate the numerator and denominator of the test statistic\n",
    "numerator = p_hat - p_0\n",
    "denominator = np.sqrt(p_0 * (1 - p_0) / n)\n",
    "\n",
    "# Calculate the test statistic\n",
    "z_score = numerator / denominator\n",
    "\n",
    "# Calculate the p-value from the z-score\n",
    "p_value = 1 - norm.cdf(z_score)\n",
    "\n",
    "# Print the p-value\n",
    "print(p_value)"
   ]
  },
  {
   "attachments": {},
   "cell_type": "markdown",
   "metadata": {},
   "source": [
    "While bootstrapping can be used to estimate the standard error of any statistic, it is computationally intensive. For proportions, using a simple equation of the hypothesized proportion and sample size is easier to compute."
   ]
  },
  {
   "attachments": {},
   "cell_type": "markdown",
   "metadata": {},
   "source": [
    "# 2. Two-sample proportion test"
   ]
  },
  {
   "attachments": {},
   "cell_type": "markdown",
   "metadata": {},
   "source": [
    "<b>2.1 Test of two proportions</b>\n",
    "\n",
    "You may wonder if the amount paid for freight affects whether or not the shipment was late. Recall that in the late_shipments dataset, whether or not the shipment was late is stored in the late column. Freight costs are stored in the freight_cost_group column, and the categories are \"expensive\" and \"reasonable\".\n",
    "\n",
    "The hypotheses to test, with \"late\" corresponding to the proportion of late shipments for that group, are\n",
    "\n",
    "<i>H<sub>o</suc></i> : <i>late<sub>expensive</suc></i> - <i>late<sub>resonable</suc></i> = 0\n",
    "\n",
    "<i>H<sub>A</suc></i> : <i>late<sub>expensive</suc></i> - <i>late<sub>resonable</suc></i> > 0\n",
    "\n",
    "p_hats contains the estimates of population proportions (sample proportions) for each freight_cost_group:\n",
    "\n",
    "```python:\n",
    "freight_cost_group  late\n",
    "expensive           Yes     0.082569\n",
    "reasonable          Yes     0.035165\n",
    "Name: late, dtype: float64\n",
    "```\n",
    "ns contains the sample sizes for these groups:\n",
    "\n",
    "```python:\n",
    "freight_cost_group\n",
    "expensive     545\n",
    "reasonable    455\n",
    "Name: late, dtype: int64\n",
    "```"
   ]
  },
  {
   "cell_type": "code",
   "execution_count": 146,
   "metadata": {},
   "outputs": [
    {
     "name": "stdout",
     "output_type": "stream",
     "text": [
      "freight_cost_groups  late\n",
      "expensive            No      0.920904\n",
      "                     Yes     0.079096\n",
      "reasonable           No      0.964835\n",
      "                     Yes     0.035165\n",
      "Name: late, dtype: float64\n",
      "freight_cost_groups\n",
      "expensive     531\n",
      "reasonable    455\n",
      "Name: late, dtype: int64\n"
     ]
    }
   ],
   "source": [
    "p_hats = late_shipments.groupby('freight_cost_groups')['late'].value_counts(normalize = True)\n",
    "print(p_hats)\n",
    "\n",
    "ns = late_shipments.groupby('freight_cost_groups')['late'].count()\n",
    "print(ns)"
   ]
  },
  {
   "cell_type": "code",
   "execution_count": 147,
   "metadata": {},
   "outputs": [
    {
     "name": "stdout",
     "output_type": "stream",
     "text": [
      "z_score =  2.922648567784529\n",
      "p_value =  0.0017353400023595311\n"
     ]
    }
   ],
   "source": [
    "# Calculate the pooled estimate of the population proportion\n",
    "p_hat = (p_hats[(\"reasonable\", \"Yes\")] * ns[\"reasonable\"] + p_hats[(\"expensive\", \"Yes\")] * ns[\"expensive\"]) / (ns[\"reasonable\"] + ns[\"expensive\"])\n",
    "\n",
    "# Calculate p_hat one minus p_hat\n",
    "p_hat_times_not_p_hat = p_hat * (1 - p_hat)\n",
    "\n",
    "# Divide this by each of the sample sizes and then sum\n",
    "p_hat_times_not_p_hat_over_ns = p_hat_times_not_p_hat / ns[\"expensive\"] + p_hat_times_not_p_hat / ns[\"reasonable\"]\n",
    "\n",
    "# Calculate the standard error\n",
    "std_error = np.sqrt(p_hat_times_not_p_hat_over_ns)\n",
    "\n",
    "# Calculate the z-score\n",
    "z_score = (p_hats[('expensive', 'Yes')] - p_hats[('reasonable', 'Yes')]) / std_error\n",
    "print('z_score = ',z_score)\n",
    "\n",
    "# Calculate the p-value from the z-score\n",
    "p_value = 1-norm.cdf(z_score)\n",
    "\n",
    "# Print p_value\n",
    "print('p_value = ', p_value)"
   ]
  },
  {
   "attachments": {},
   "cell_type": "markdown",
   "metadata": {},
   "source": [
    "You can calculate a p-value for a two sample proportion test using (a rather exhausting amount of) arithmetic. This tiny p-value leads us to suspect there is a larger proportion of late shipments for expensive freight compared to reasonable freight."
   ]
  },
  {
   "attachments": {},
   "cell_type": "markdown",
   "metadata": {},
   "source": [
    "<b>2.2 proportions_ztest() for two samples</b>\n",
    "\n",
    "That took a lot of effort to calculate the p-value, so while it is useful to see how the calculations work, it isn't practical to do in real-world analyses. For daily usage, it's better to use the statsmodels package.\n",
    "\n",
    "Recall the hypotheses.\n",
    "\n",
    "<i>H<sub>o</suc></i> : <i>late<sub>expensive</suc></i> - <i>late<sub>resonable</suc></i> = 0\n",
    "\n",
    "<i>H<sub>A</suc></i> : <i>late<sub>expensive</suc></i> - <i>late<sub>resonable</suc></i> > 0"
   ]
  },
  {
   "cell_type": "code",
   "execution_count": 148,
   "metadata": {},
   "outputs": [
    {
     "name": "stdout",
     "output_type": "stream",
     "text": [
      "3.1190401865206128 0.0009072060637051224\n"
     ]
    }
   ],
   "source": [
    "# Count the late column values for each freight_cost_group\n",
    "late_by_freight_cost_group = late_shipments.groupby(\"freight_cost_groups\")['late'].value_counts()\n",
    "\n",
    "# Create an array of the \"Yes\" counts for each freight_cost_group\n",
    "success_counts = np.array([45, 16])\n",
    "\n",
    "# Create an array of the total number of rows in each freight_cost_group\n",
    "n = np.array([45 + 500, 16 + 439])\n",
    "\n",
    "# Run a z-test on the two proportions\n",
    "from statsmodels.stats.proportion import proportions_ztest\n",
    "stat, p_value = proportions_ztest(count=success_counts, nobs=n, alternative='larger')\n",
    "\n",
    "# Print the results\n",
    "print(stat, p_value)"
   ]
  },
  {
   "attachments": {},
   "cell_type": "markdown",
   "metadata": {},
   "source": [
    "statsmodels's .proportions_ztest() method gives the same results with less effort."
   ]
  },
  {
   "attachments": {},
   "cell_type": "markdown",
   "metadata": {},
   "source": [
    "# 3. Chi-square test of independence"
   ]
  },
  {
   "attachments": {},
   "cell_type": "markdown",
   "metadata": {},
   "source": [
    "<b>3.1 The chi-square distribution</b>\n",
    "\n",
    "Chi-square hypothesis tests rely on the chi-square distribution. Like the t-distribution, it has degrees of freedom and non-centrality parameters.\n",
    "\n",
    "The plots show the PDF and CDF for a chi-square distribution (solid black line), and for comparison show a normal distribution with the same mean and variance (gray dotted line).\n",
    "\n",
    "![Alt text](11.png)\n",
    "\n",
    "![Alt text](22.png)\n",
    "\n",
    "![Alt text](33.png)\n",
    "\n",
    "<b>Question</b>\n",
    "\n",
    "Which statement about the chi-square distribution is true?\n",
    "\n",
    "- Like the normal distribution, the chi-square distribution is defined for x values from minus infinity to infinity.\n",
    "\n",
    "- <b><font color ='green'>As you increase the degrees of freedom or the non-centrality, the chi-square distribution PDF and CDF curves get closer to those of a normal distribution.</font></b>\n",
    "\n",
    "- As you decrease the degrees of freedom or the non-centrality, the chi-square distribution PDF and CDF curves get closer to those of a normal distribution.\n",
    "\n",
    "- The chi-square distribution PDF is symmetric about its peak.\n",
    "\n",
    "\n",
    "Like the t-distribution, the chi-square distribution has degrees of freedom and non-centrality parameters. When these numbers are large, the chi-square distribution can be approximated by a normal distribution."
   ]
  },
  {
   "attachments": {},
   "cell_type": "markdown",
   "metadata": {},
   "source": [
    "<b>3.2 How many tails for chi-square tests?</b>\n",
    "\n",
    "Unlike pingouin.ttest() and statsmodels.stats.proportion.proportions_ztest(), pingouin.chi2_independence() does not have an alternative argument to specify which tails are considered by the alternative hypothesis.\n",
    "\n",
    "Which tail is almost always considered in chi-square tests?\n",
    "\n",
    "Possible Answers\n",
    "\n",
    "- Left-tailed\n",
    "\n",
    "- <b><font color = 'green'>Right-tailed</font></b>\n",
    "\n",
    "- Two-tailed\n",
    "\n",
    "- Neither: chi-square tests depend on the peak, not the tails\n",
    "\n",
    "- It depends on the problem\n",
    "\n",
    "\n",
    "The chi-square test statistic is a square number, so it is always non-negative, so only the right tail tends to be of interest."
   ]
  },
  {
   "attachments": {},
   "cell_type": "markdown",
   "metadata": {},
   "source": [
    "<b>3.3 Performing a chi-square test</b>\n",
    "\n",
    "The chi-square independence test compares proportions of successes of one categorical variable across the categories of another categorical variable.\n",
    "\n",
    "Trade deals often use a form of business shorthand in order to specify the exact details of their contract. These are International Chamber of Commerce (ICC) international commercial terms, or incoterms for short.\n",
    "\n",
    "The late_shipments dataset includes a vendor_inco_term that describes the incoterms that applied to a given shipment. The choices are:\n",
    "\n",
    "- EXW: \"Ex works\". The buyer pays for transportation of the goods.\n",
    "- CIP: \"Carriage and insurance paid to\". The seller pays for freight and insurance until the goods board a ship.\n",
    "- DDP: \"Delivered duty paid\". The seller pays for transportation of the goods until they reach a destination port.\n",
    "- FCA: \"Free carrier\". The seller pays for transportation of the goods.\n",
    "\n",
    "Perhaps the incoterms affect whether or not the freight costs are expensive. Test these hypotheses with a significance level of 0.01.\n",
    "\n",
    "<i>H<sub>o</sub></i> : vendor_inco_term and freight_cost_group are independent.\n",
    "\n",
    "<i>H<sub>A</sub></i> : vendor_inco_term and freight_cost_group are associated."
   ]
  },
  {
   "cell_type": "code",
   "execution_count": 149,
   "metadata": {},
   "outputs": [
    {
     "name": "stdout",
     "output_type": "stream",
     "text": [
      "vendor_inco_term  freight_cost_groups\n",
      "CIP               reasonable             0.680000\n",
      "                  expensive              0.320000\n",
      "DDP               expensive              0.550000\n",
      "                  reasonable             0.450000\n",
      "DDU               reasonable             1.000000\n",
      "EXW               expensive              0.583448\n",
      "                  reasonable             0.416552\n",
      "FCA               reasonable             0.663636\n",
      "                  expensive              0.336364\n",
      "Name: freight_cost_groups, dtype: float64\n",
      "freight_cost_groups  expensive  reasonable\n",
      "vendor_inco_term                          \n",
      "CIP                   0.320000    0.680000\n",
      "DDP                   0.550000    0.450000\n",
      "DDU                        NaN    1.000000\n",
      "EXW                   0.583448    0.416552\n",
      "FCA                   0.336364    0.663636\n"
     ]
    },
    {
     "data": {
      "image/png": "[encoded data removed]",
      "text/plain": [
       "<Figure size 640x480 with 1 Axes>"
      ]
     },
     "metadata": {},
     "output_type": "display_data"
    },
    {
     "name": "stdout",
     "output_type": "stream",
     "text": [
      "      test  lambda       chi2  dof          pval    cramer     power\n",
      "0  pearson     1.0  34.805072  4.0  5.093922e-07  0.186561  0.999235\n"
     ]
    },
    {
     "name": "stderr",
     "output_type": "stream",
     "text": [
      "C:\\Users\\yazan\\AppData\\Local\\Packages\\PythonSoftwareFoundation.Python.3.10_qbz5n2kfra8p0\\LocalCache\\local-packages\\Python310\\site-packages\\pingouin\\contingency.py:150: UserWarning: Low count on observed frequencies.\n",
      "  warnings.warn(\"Low count on {} frequencies.\".format(name))\n",
      "C:\\Users\\yazan\\AppData\\Local\\Packages\\PythonSoftwareFoundation.Python.3.10_qbz5n2kfra8p0\\LocalCache\\local-packages\\Python310\\site-packages\\pingouin\\contingency.py:150: UserWarning: Low count on expected frequencies.\n",
      "  warnings.warn(\"Low count on {} frequencies.\".format(name))\n",
      "C:\\Users\\yazan\\AppData\\Local\\Packages\\PythonSoftwareFoundation.Python.3.10_qbz5n2kfra8p0\\LocalCache\\local-packages\\Python310\\site-packages\\scipy\\stats\\_stats_py.py:7175: RuntimeWarning: divide by zero encountered in power\n",
      "  terms = f_obs * ((f_obs / f_exp)**lambda_ - 1)\n",
      "C:\\Users\\yazan\\AppData\\Local\\Packages\\PythonSoftwareFoundation.Python.3.10_qbz5n2kfra8p0\\LocalCache\\local-packages\\Python310\\site-packages\\scipy\\stats\\_stats_py.py:7175: RuntimeWarning: invalid value encountered in multiply\n",
      "  terms = f_obs * ((f_obs / f_exp)**lambda_ - 1)\n",
      "C:\\Users\\yazan\\AppData\\Local\\Packages\\PythonSoftwareFoundation.Python.3.10_qbz5n2kfra8p0\\LocalCache\\local-packages\\Python310\\site-packages\\scipy\\stats\\_stats_py.py:7172: RuntimeWarning: divide by zero encountered in divide\n",
      "  terms = 2.0 * special.xlogy(f_exp, f_exp / f_obs)\n"
     ]
    }
   ],
   "source": [
    "'''Calculate the proportion of freight_cost_group in late_shipments grouped by vendor_inco_term.'''\n",
    "import pingouin\n",
    "import matplotlib.pyplot as plt\n",
    "\n",
    "# Proportion of freight_cost_group grouped by vendor_inco_term\n",
    "props = late_shipments.groupby('vendor_inco_term')['freight_cost_groups'].value_counts(normalize=True)\n",
    "print(props)\n",
    "\n",
    "'''Unstack the .value_counts() result to be in wide format instead of long.'''\n",
    "# Convert props to wide format\n",
    "wide_props = props.unstack()\n",
    "print(wide_props)\n",
    "\n",
    "'''Create a proportional stacked bar plot with bars filled based on freight_cost_group \n",
    "across the levels of vendor_inco_term.'''\n",
    "# Proportional stacked bar plot of freight_cost_group vs. vendor_inco_term\n",
    "wide_props.plot(kind=\"bar\", stacked=True)\n",
    "plt.show()\n",
    "\n",
    "'''Perform a chi-square test of independence on freight_cost_group and \n",
    "vendor_inco_term in the late_shipments dataset.'''\n",
    "# Determine if freight_cost_group and vendor_inco_term are independent\n",
    "expected, observed, stats = pingouin.chi2_independence(data=late_shipments, x=\"vendor_inco_term\", y=\"freight_cost_groups\")\n",
    "\n",
    "# Print results\n",
    "print(stats[stats['test'] == 'pearson']) "
   ]
  },
  {
   "attachments": {},
   "cell_type": "markdown",
   "metadata": {},
   "source": [
    "<b>Question</b>\n",
    "\n",
    "What should you conclude from the hypothesis test?\n",
    "\n",
    "Possible Answers\n",
    "\n",
    "- Fail to reject the null hypothesis and conclude that vendor_inco_term and freight_cost_group are independent.\n",
    "\n",
    "- Reject the null hypothesis and conclude that vendor_inco_term and freight_cost_group are independent.\n",
    "\n",
    "- Fail to reject the null hypothesis and conclude that vendor_inco_term and freight_cost_group are associated.\n",
    "\n",
    "- <b><font color = 'green'>Reject the null hypothesis and conclude that vendor_inco_term and freight_cost_group are associated</font></b>\n",
    "\n",
    "The test to compare proportions of successes in a categorical variable across groups of another categorical variable is called a chi-square test of independence."
   ]
  },
  {
   "attachments": {},
   "cell_type": "markdown",
   "metadata": {},
   "source": [
    "# 4. Chi-square goodness of fit tests"
   ]
  },
  {
   "attachments": {},
   "cell_type": "markdown",
   "metadata": {},
   "source": [
    "<b>4.1 Visualizing goodness of fit</b>\n",
    "\n",
    "The chi-square goodness of fit test compares proportions of each level of a categorical variable to hypothesized values. Before running such a test, it can be helpful to visually compare the distribution in the sample to the hypothesized distribution.\n",
    "\n",
    "Recall the vendor incoterms in the late_shipments dataset. You hypothesize that the four values occur with these frequencies in the population of shipments.\n",
    "\n",
    "- CIP: 0.05\n",
    "- DDP: 0.1\n",
    "- EXW: 0.75\n",
    "- FCA: 0.1\n",
    "\n",
    "These frequencies are stored in the hypothesized DataFrame.\n",
    "\n",
    "The incoterm_counts DataFrame stores the .value_counts() of the vendor_inco_term column."
   ]
  },
  {
   "cell_type": "code",
   "execution_count": 151,
   "metadata": {},
   "outputs": [
    {
     "name": "stdout",
     "output_type": "stream",
     "text": [
      "  vendor_inco_term  prop\n",
      "0              CIP  0.05\n",
      "1              DDP  0.10\n",
      "2              EXW  0.75\n",
      "3              FCA  0.10\n",
      "  vendor_inco_term    n\n",
      "3              CIP   56\n",
      "2              DDP  100\n",
      "4              DDU    1\n",
      "0              EXW  732\n",
      "1              FCA  111\n"
     ]
    }
   ],
   "source": [
    "hypothesized_dict = {'vendor_inco_term':[\"CIP\", \"DDP\", \"EXW\", \"FCA\"], \"prop\":[0.05, 0.1, 0.75, 0.1]}\n",
    "hypothesized = pd.DataFrame(hypothesized_dict)\n",
    "print(hypothesized)\n",
    "\n",
    "incoterm = late_shipments['vendor_inco_term'].value_counts()\n",
    "\n",
    "incoterm_counts = incoterm.rename_axis('vendor_inco_term').reset_index(name = 'n').sort_values('vendor_inco_term')\n",
    "print(incoterm_counts)"
   ]
  },
  {
   "cell_type": "code",
   "execution_count": 152,
   "metadata": {},
   "outputs": [
    {
     "name": "stdout",
     "output_type": "stream",
     "text": [
      "1000\n",
      "  vendor_inco_term  prop      n\n",
      "0              CIP  0.05   50.0\n",
      "1              DDP  0.10  100.0\n",
      "2              EXW  0.75  750.0\n",
      "3              FCA  0.10  100.0\n"
     ]
    },
    {
     "data": {
      "image/png": "[encoded data removed]",
      "text/plain": [
       "<Figure size 640x480 with 1 Axes>"
      ]
     },
     "metadata": {},
     "output_type": "display_data"
    }
   ],
   "source": [
    "'''Find the total number of rows in late_shipments.'''\n",
    "# Find the number of rows in late_shipments\n",
    "n_total = len(late_shipments)\n",
    "\n",
    "# Print n_total\n",
    "print(n_total)\n",
    "\n",
    "'''Add a column named n to the hypothesized DataFrame that is the hypothesized prop column times n_total.'''\n",
    "# Create n column that is prop column * n_total\n",
    "hypothesized['n'] = hypothesized['prop'] * n_total\n",
    "\n",
    "# Print the modified hypothesized DataFrame\n",
    "print(hypothesized)\n",
    "\n",
    "'''Create a bar graph of 'n' versus 'vendor_inco_term' for the incoterm_counts data, specifying a red color.'''\n",
    "# Plot a red bar graph of n vs. vendor_inco_term for incoterm_counts\n",
    "plt.bar(incoterm_counts['vendor_inco_term'], incoterm_counts['n'], color=\"red\", label=\"Observed\")\n",
    "\n",
    "# Add a blue bar plot for the hypothesized counts\n",
    "plt.bar(hypothesized['vendor_inco_term'], hypothesized['n'], color = 'blue', alpha=0.5, label=\"Hypothesized\")\n",
    "plt.legend()\n",
    "plt.show()"
   ]
  }
 ],
 "metadata": {
  "kernelspec": {
   "display_name": "Python 3",
   "language": "python",
   "name": "python3"
  },
  "language_info": {
   "codemirror_mode": {
    "name": "ipython",
    "version": 3
   },
   "file_extension": ".py",
   "mimetype": "text/x-python",
   "name": "python",
   "nbconvert_exporter": "python",
   "pygments_lexer": "ipython3",
   "version": "3.10.9"
  },
  "orig_nbformat": 4,
  "vscode": {
   "interpreter": {
    "hash": "cd85abab4e42ed52d78993b1b54e037968b74145d44eb01d9e116517c8fc42a2"
   }
  }
 },
 "nbformat": 4,
 "nbformat_minor": 2
}
