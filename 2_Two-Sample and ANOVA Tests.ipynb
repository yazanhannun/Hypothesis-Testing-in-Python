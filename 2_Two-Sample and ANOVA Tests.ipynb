{
 "cells": [
  {
   "cell_type": "markdown",
   "metadata": {},
   "source": [
    "# Two-Sample and ANOVA Tests"
   ]
  },
  {
   "cell_type": "markdown",
   "metadata": {},
   "source": [
    "# 1. Performing t-tests"
   ]
  },
  {
   "cell_type": "markdown",
   "metadata": {},
   "source": [
    "<b>1.1 Hypothesis testing workflow</b>\n",
    "\n",
    "You've seen the hypothesis testing workflow for the one sample case where you compared a sample mean to a hypothesized value, and the two sample case where you compared two sample means. In both cases, the workflow shares common steps.\n",
    "\n",
    "Place the hypothesis testing workflow steps in order from first to last.\n",
    "\n",
    "![Alt text](Hypothesis%20testing%20workflow.png)\n",
    "\n",
    "Regardless of the type of hypothesis test you are performing, it will have a workflow that follows this format."
   ]
  },
  {
   "cell_type": "markdown",
   "metadata": {},
   "source": [
    "<b>1.2 Two sample mean test statistic</b>\n",
    "\n",
    "The hypothesis test for determining if there is a difference between the means of two populations uses a different type of test statistic to the z-scores you saw in Chapter 1. It's called \"t\", and it can be calculated from three values from each sample using this equation.\n",
    "\n",
    " \n",
    "$$\n",
    "  t = \\frac{\\bar{x}_{no}-\\bar{x}_{yes}}{\\sqrt{\\frac{s_{no}^2}{n_{no}}+\\frac{s_{yes}^2}{n_{yes}}}}\n",
    "$$\n",
    " \n",
    "\n",
    "While trying to determine why some shipments are late, you may wonder if the weight of the shipments that were on time is less than the weight of the shipments that were late. The late_shipments dataset has been split into a \"yes\" group, where late == \"Yes\" and a \"no\" group where late == \"No\". The weight of the shipment is given in the weight_kilograms variable.\n",
    "\n",
    "The sample means for the two groups are available as xbar_no and xbar_yes. The sample standard deviations are s_no and s_yes. The sample sizes are n_no and n_yes. "
   ]
  },
  {
   "cell_type": "code",
   "execution_count": 15,
   "metadata": {},
   "outputs": [
    {
     "name": "stdout",
     "output_type": "stream",
     "text": [
      "-2.3936661778766433\n"
     ]
    }
   ],
   "source": [
    "# Import the late_shipment dataframe\n",
    "import pandas as pd\n",
    "import numpy as np\n",
    "\n",
    "late_shipments = pd.read_feather(\"C:\\\\Users\\\\yazan\\\\Desktop\\\\Data_Analytics\\\\9-Introduction to Hypothesis Testing\\\\Datasets\\\\late_shipments.feather\")\n",
    "xbar = late_shipments.groupby('late_delivery')['weight_kilograms'].mean()\n",
    "s = late_shipments.groupby('late_delivery')['weight_kilograms'].std()\n",
    "n = late_shipments.groupby('late_delivery')['weight_kilograms'].count()\n",
    "\n",
    "xbar_no = xbar[0]\n",
    "xbar_yes = xbar[1]\n",
    "\n",
    "s_no = s[0]\n",
    "s_yes = s[1]\n",
    "\n",
    "n_no = n[0]\n",
    "n_yes = n[1]\n",
    "\n",
    "# Calculate the numerator of the test statistic\n",
    "numerator = xbar_no - xbar_yes\n",
    "\n",
    "# Calculate the denominator of the test statistic\n",
    "denominator = np.sqrt((s_no**2/n_no) + (s_yes**2/n_yes))\n",
    "\n",
    "# Calculate the test statistic\n",
    "t_stat = numerator/denominator\n",
    "\n",
    "# Print the test statistic\n",
    "print(t_stat)"
   ]
  },
  {
   "cell_type": "markdown",
   "metadata": {},
   "source": [
    "When testing for differences between means, the test statistic is called 't' rather than 'z', and can be calculated using six numbers from the samples. Here, the value is about -2.39 or 2.39, depending on the order you calculated the numerator."
   ]
  },
  {
   "cell_type": "markdown",
   "metadata": {},
   "source": [
    "# 2. Calculating p-values from t-statistics"
   ]
  },
  {
   "cell_type": "markdown",
   "metadata": {},
   "source": [
    "<b>2.1 Why is t needed?</b>\n",
    "\n",
    "The process for calculating p-values is to start with the sample statistic, standardize it to get a test statistic, then transform it via a cumulative distribution function. In Chapter 1, that final transformation was denoted , and the CDF transformation used the (standard normal) z-distribution. In this chapter, the test statistic was denoted , and the transformation used the t-distribution.\n",
    "\n",
    "In which hypothesis testing scenario is a t-distribution needed instead of the z-distribution?\n",
    "\n",
    "- The t-distribution is just another name for the z-distribution, so they can be used interchangeably.\n",
    "\n",
    "- The t-distribution is the same thing as the z-distribution for very small sample sizes.\n",
    "\n",
    "- <b><font color='green'>When a sample standard deviation is used in estimating a standard error.</font></b>\n",
    "\n",
    "- When you are comparing the means of three or more samples, rather than comparing a single sample mean to a value.\n",
    "\n",
    "Using a sample standard deviation to estimate the standard error is computationally easier than using bootstrapping. However, to correct for the approximation, you need to use a t-distribution when transforming the test statistic to get the p-value."
   ]
  },
  {
   "cell_type": "markdown",
   "metadata": {},
   "source": [
    "<b>2.2 The t-distribution</b>\n",
    "\n",
    "The t-distribution is used to calculate the p-value from the <i>t</i> test statistic, and having a sense of how the PDF and CDF look can help you understand this calculation. It has two parameters: the degrees of freedom, and the non-centrality parameter.\n",
    "\n",
    "The plots show the PDF and CDF for a t-distribution (solid black line), and for comparison show a normal distribution with the same mean and variance (gray dotted line).\n",
    "\n",
    "Which statement about the the t-distribution is true?\n",
    "\n",
    "- Like the normal distribution, the PDF of a central t-distribution is always symmetric.\n",
    "\n",
    "- As you increase the degrees of freedom, the tails of the t-distribution get fatter.\n",
    "\n",
    "- <b><font color='green'>As you increase the degrees of freedom, the t-distribution PDF and CDF curves get closer to those of a normal distribution.</font></b>\n",
    "\n",
    "- As you increase the non-centrality, the t-distribution PDF and CDF curves get closer to those of a normal distribution.\n",
    "\n",
    "The normal distribution is essentially a t-distribution with infinite degrees of freedom."
   ]
  },
  {
   "cell_type": "markdown",
   "metadata": {},
   "source": [
    "<b>2.3 From t to p</b>\n",
    "\n",
    "Previously, you calculated the test statistic for the two-sample problem of whether the mean weight of shipments is smaller for shipments that weren't late (late == \"No\") compared to shipments that were late (late == \"Yes\"). In order to make decisions about it, you need to transform the test statistic with a cumulative distribution function to get a p-value.\n",
    "\n",
    "Recall the hypotheses:\n",
    "\n",
    "<i>H<sub>o</suc></i>: The mean weight of shipments that weren't late is the same as the mean weight of shipments that were late.\n",
    "\n",
    "<i>H<sub>A</suc></i>: The mean weight of shipments that weren't late is less than the mean weight of shipments that were late.\n",
    "\n",
    "The test statistic, t_stat, is available, as are the samples sizes for each group, n_no and n_yes. Use a significance level of alpha = 0.05."
   ]
  },
  {
   "cell_type": "markdown",
   "metadata": {},
   "source": [
    "<b>Question</b>\n",
    "\n",
    "What type of test does the alternative hypothesis indicate that we need?\n",
    "\n",
    "Possible Answers:\n",
    "\n",
    "- Two-tailed\n",
    "\n",
    "- <b><font color='green'>Left-tailed</font></b>\n",
    "\n",
    "- Right-tailed"
   ]
  },
  {
   "cell_type": "code",
   "execution_count": 16,
   "metadata": {},
   "outputs": [
    {
     "name": "stdout",
     "output_type": "stream",
     "text": [
      "0.008432382146249523\n"
     ]
    }
   ],
   "source": [
    "from scipy.stats import t\n",
    "\n",
    "# Calculate the degrees of freedom\n",
    "degrees_of_freedom = n_no + n_yes - 2\n",
    "\n",
    "# Calculate the p-value from the test stat\n",
    "p_value = t.cdf(t_stat, df=degrees_of_freedom)\n",
    "\n",
    "# Print the p_value\n",
    "print(p_value)"
   ]
  },
  {
   "cell_type": "markdown",
   "metadata": {},
   "source": [
    "<b>Question</b>\n",
    "\n",
    "What decision should you make based on the results of the hypothesis test?\n",
    "\n",
    "Possible Answers\n",
    "\n",
    "- Fail to reject the null hypothesis.\n",
    "\n",
    "- <b><font color = 'green'>Reject the null hypothesis.</font></b>\n",
    "\n",
    "- You can't conclude anything from this hypothesis test.\n",
    "\n",
    "When the standard error is estimated from the sample standard deviation and sample size, the test statistic is transformed into a p-value using the t-distribution."
   ]
  },
  {
   "cell_type": "markdown",
   "metadata": {},
   "source": [
    "# 3. Paired t-tests "
   ]
  },
  {
   "cell_type": "markdown",
   "metadata": {},
   "source": [
    "<b>3.1 Is pairing needed?</b>\n",
    "\n",
    "t-tests are used to compare two sample means. However, the test involves different calculations depending upon whether the two samples are paired or not. To make sure you use the correct version of the t-test, you need to be able to identify pairing.\n",
    "\n",
    "Match the problem description with whether a paired t-test or non-paired t-test should be conducted.\n",
    "\n",
    "\n",
    "![Alt text](is%20pairing%20needed.png)\n",
    "\n",
    "If you have repeated observations of something, then those observations form pairs."
   ]
  },
  {
   "cell_type": "markdown",
   "metadata": {},
   "source": [
    "<b>3.2 Visualizing the difference</b>\n",
    "\n",
    "Before you start running hypothesis tests, it's a great idea to perform some exploratory data analysis; that is, calculating summary statistics and visualizing distributions.\n",
    "\n",
    "Here, you'll look at the proportion of county-level votes for the Democratic candidate in 2012 and 2016, sample_dem_data. Since the counties are the same in both years, these samples are paired. The columns containing the samples are dem_percent_12 and dem_percent_16."
   ]
  },
  {
   "cell_type": "code",
   "execution_count": 17,
   "metadata": {},
   "outputs": [
    {
     "name": "stdout",
     "output_type": "stream",
     "text": [
      "     state    county  dem_percent_12  dem_percent_16\n",
      "0  Alabama   Bullock       76.305900       74.946921\n",
      "1  Alabama   Chilton       19.453671       15.847352\n",
      "2  Alabama      Clay       26.673672       18.674517\n",
      "3  Alabama   Cullman       14.661752       10.028252\n",
      "4  Alabama  Escambia       36.915731       31.020546\n"
     ]
    }
   ],
   "source": [
    "import pandas as pd\n",
    "import numpy as np\n",
    "sample_dem_data = pd.read_feather(\"C:\\\\Users\\\\yazan\\\\Desktop\\\\Data_Analytics\\\\9-Introduction to Hypothesis Testing\\\\Datasets\\\\dem_votes_potus_12_16.feather\")\n",
    "print(sample_dem_data.head())"
   ]
  },
  {
   "cell_type": "code",
   "execution_count": 18,
   "metadata": {},
   "outputs": [
    {
     "name": "stdout",
     "output_type": "stream",
     "text": [
      "       state       county  dem_percent_12  dem_percent_16       diff\n",
      "0    Alabama      Bullock       76.305900       74.946921   1.358979\n",
      "1    Alabama      Chilton       19.453671       15.847352   3.606319\n",
      "2    Alabama         Clay       26.673672       18.674517   7.999155\n",
      "3    Alabama      Cullman       14.661752       10.028252   4.633500\n",
      "4    Alabama     Escambia       36.915731       31.020546   5.895185\n",
      "..       ...          ...             ...             ...        ...\n",
      "495  Wyoming        Uinta       19.065464       14.191263   4.874201\n",
      "496  Wyoming     Washakie       20.131846       13.948610   6.183235\n",
      "497   Alaska   District 3       33.514582       16.301064  17.213518\n",
      "498   Alaska  District 18       61.284271       52.810051   8.474220\n",
      "499   Alaska  District 24       42.913980       39.405286   3.508694\n",
      "\n",
      "[500 rows x 5 columns]\n"
     ]
    }
   ],
   "source": [
    "'''Create a new diff column containing the percentage of votes for the democratic candidate in 2012 minus the \n",
    "percentage of votes for the democratic candidate in 2016.'''\n",
    "\n",
    "# Calculate the differences from 2012 to 2016\n",
    "sample_dem_data['diff'] = sample_dem_data['dem_percent_12'] - sample_dem_data['dem_percent_16']\n",
    "\n",
    "# Print sample_dem_data\n",
    "print(sample_dem_data)"
   ]
  },
  {
   "cell_type": "code",
   "execution_count": 19,
   "metadata": {},
   "outputs": [
    {
     "name": "stdout",
     "output_type": "stream",
     "text": [
      "6.829312660106834\n"
     ]
    }
   ],
   "source": [
    "'''Calculate the mean of the diff column as xbar_diff.'''\n",
    "\n",
    "# Find the mean of the diff column\n",
    "xbar_diff = sample_dem_data['diff'].mean()\n",
    "\n",
    "# Print xbar_diff\n",
    "print(xbar_diff)"
   ]
  },
  {
   "cell_type": "code",
   "execution_count": 20,
   "metadata": {},
   "outputs": [
    {
     "name": "stdout",
     "output_type": "stream",
     "text": [
      "5.040139140132317\n"
     ]
    }
   ],
   "source": [
    "'''Calculate the standard deviation of the diff column as s_diff.'''\n",
    "\n",
    "# Find the standard deviation of the diff column\n",
    "s_diff = sample_dem_data['diff'].std()\n",
    "\n",
    "# Print s_diff\n",
    "print(s_diff)"
   ]
  },
  {
   "cell_type": "code",
   "execution_count": 21,
   "metadata": {},
   "outputs": [
    {
     "data": {
      "image/png": "[encoded data removed]",
      "text/plain": [
       "<Figure size 640x480 with 1 Axes>"
      ]
     },
     "metadata": {},
     "output_type": "display_data"
    }
   ],
   "source": [
    "'''Plot a histogram of the diff column with 20 bins.'''\n",
    "\n",
    "import matplotlib.pyplot as plt\n",
    "\n",
    "# Plot a histogram of diff with 20 bins\n",
    "sample_dem_data['diff'].hist(bins=20)\n",
    "plt.show()"
   ]
  },
  {
   "cell_type": "markdown",
   "metadata": {},
   "source": [
    " Notice that the majority of the histogram lies to the right of zero."
   ]
  },
  {
   "cell_type": "markdown",
   "metadata": {},
   "source": [
    "<b>3.3 Using ttest()</b>\n",
    "\n",
    "Manually calculating test statistics and transforming them with a CDF to get a p-value is a lot of effort to compare two sample means. The comparison of two sample means is called a t-test, and the pingouin Python package has a .ttest() method to accomplish it. This method provides some flexibility in how you perform the test.\n",
    "\n",
    "As in the previous exercise, you'll explore the difference between the proportion of county-level votes for the Democratic candidate in 2012 and 2016 to identify if the difference is significant. The hypotheses are as follows:\n",
    "\n",
    "<i>H<sub>o</sub></i> : The proportion of democratic votes in 2012 and 2016 were the same. \n",
    "\n",
    "<i>H<sub>A</sub></i> : The proportion of democratic votes in 2012 and 2016 were different."
   ]
  },
  {
   "cell_type": "code",
   "execution_count": 22,
   "metadata": {},
   "outputs": [
    {
     "name": "stdout",
     "output_type": "stream",
     "text": [
      "                T  dof alternative          p-val         CI95%   cohen-d  \\\n",
      "T-test  30.298384  499   two-sided  3.600634e-115  [6.39, 7.27]  1.354985   \n",
      "\n",
      "              BF10  power  \n",
      "T-test  2.246e+111    1.0  \n"
     ]
    }
   ],
   "source": [
    "'''Conduct a t-test on the sample differences (the diff column of sample_dem_data), using an appropriate \n",
    "alternative hypothesis chosen from \"two-sided\", \"less\", and \"greater\".'''\n",
    "\n",
    "import pingouin\n",
    "\n",
    "# Conduct a t-test on diff\n",
    "test_results = pingouin.ttest(sample_dem_data['diff'], \n",
    "y=0,\n",
    "alternative = 'two-sided')\n",
    "       \n",
    "# Print the test results\n",
    "print(test_results)"
   ]
  },
  {
   "cell_type": "markdown",
   "metadata": {},
   "source": [
    "<b>Question</b>\n",
    "\n",
    "What's the correct decision from the t-test, assuming ?\n",
    "\n",
    "Possible Answers:\n",
    "\n",
    "- Fail to reject the null hypothesis.\n",
    "\n",
    "- <b><font color = 'green'>Reject the null hypothesis.</font></b>\n",
    "\n",
    "- You can't conclude anything from this hypothesis test."
   ]
  },
  {
   "cell_type": "code",
   "execution_count": 23,
   "metadata": {},
   "outputs": [
    {
     "name": "stdout",
     "output_type": "stream",
     "text": [
      "                T  dof alternative          p-val         CI95%   cohen-d  \\\n",
      "T-test  30.298384  499   two-sided  3.600634e-115  [6.39, 7.27]  0.454202   \n",
      "\n",
      "              BF10  power  \n",
      "T-test  2.246e+111    1.0  \n"
     ]
    }
   ],
   "source": [
    "'''Conduct a paired test on the democratic votes in 2012 and 2016 \n",
    "(the dem_percent_12 and dem_percent_16 columns of sample_dem_data), \n",
    "using an appropriate alternative hypothesis.'''\n",
    "\n",
    "# Conduct a paired t-test on dem_percent_12 and dem_percent_16\n",
    "paired_test_results = pingouin.ttest(x=sample_dem_data['dem_percent_12'], \n",
    "                              y=sample_dem_data['dem_percent_16'],\n",
    "                              paired = True,\n",
    "                              alternative=\"two-sided\")\n",
    "                        \n",
    "# Print the paired test results\n",
    "print(paired_test_results)"
   ]
  },
  {
   "cell_type": "markdown",
   "metadata": {},
   "source": [
    "<b>Question</b>\n",
    "\n",
    "Compare the paired t-test to an (inappropriate) unpaired test on the same data. How does the p-value change?"
   ]
  },
  {
   "cell_type": "code",
   "execution_count": 24,
   "metadata": {},
   "outputs": [
    {
     "name": "stdout",
     "output_type": "stream",
     "text": [
      "               T  dof alternative         p-val        CI95%   cohen-d  \\\n",
      "T-test  7.181565  998   two-sided  1.345737e-12  [4.96, 8.7]  0.454202   \n",
      "\n",
      "             BF10  power  \n",
      "T-test  4.308e+09    1.0  \n"
     ]
    }
   ],
   "source": [
    "# Conduct a paired t-test on dem_percent_12 and dem_percent_16\n",
    "unpaired_test_results = pingouin.ttest(x=sample_dem_data['dem_percent_12'], \n",
    "                              y=sample_dem_data['dem_percent_16'],\n",
    "                              paired = False,\n",
    "                              alternative=\"two-sided\")\n",
    "                    \n",
    "# Print the paired test results\n",
    "print(unpaired_test_results)"
   ]
  },
  {
   "cell_type": "markdown",
   "metadata": {},
   "source": [
    "Possible Answers:\n",
    "\n",
    "- The p-value from the unpaired test is smaller than the p-value from the paired test.\n",
    "\n",
    "- The p-value from the unpaired test is equal to the p-value from the paired test.\n",
    "\n",
    "- <b><font color = 'green'>The p-value from the unpaired test is greater than than the p-value from the paired test.</font></b>"
   ]
  },
  {
   "cell_type": "markdown",
   "metadata": {},
   "source": [
    "Using .ttest() lets you avoid manual calculation to run your test. When you have paired data, a paired t-test is preferable to the unpaired version because it reduces the chance of a false negative error."
   ]
  },
  {
   "cell_type": "markdown",
   "metadata": {},
   "source": [
    "# 4. ANOVA tests"
   ]
  },
  {
   "attachments": {},
   "cell_type": "markdown",
   "metadata": {},
   "source": [
    "<b>4.1 Visualizing many categories</b>\n",
    "\n",
    "So far in this chapter, we've only considered the case of differences in a numeric variable between two categories. Of course, many datasets contain more categories. Before you get to conducting tests on many categories, it's often helpful to perform exploratory data analysis (EDA), calculating summary statistics for each group and visualizing the distributions of the numeric variable for each category using box plots.\n",
    "\n",
    "Here, we'll return to the late shipments data, and how the price of each package (pack_price) varies between the three shipment modes (shipment_mode): \"Air\", \"Air Charter\", and \"Ocean\"."
   ]
  },
  {
   "cell_type": "code",
   "execution_count": 27,
   "metadata": {},
   "outputs": [
    {
     "data": {
      "image/png": "[encoded data removed]",
      "text/plain": [
       "<Figure size 640x480 with 1 Axes>"
      ]
     },
     "metadata": {},
     "output_type": "display_data"
    }
   ],
   "source": [
    "# Calculate the mean pack_price for each shipment_mode\n",
    "xbar_pack_by_mode = late_shipments.groupby(\"shipment_mode\", group_keys=False)['pack_price'].mean()\n",
    "\n",
    "# Calculate the standard deviation of the pack_price for each shipment_mode\n",
    "s_pack_by_mode = late_shipments.groupby(\"shipment_mode\")['pack_price'].std()\n",
    "\n",
    "# Boxplot of shipment_mode vs. pack_price\n",
    "import seaborn as sns\n",
    "import matplotlib.pyplot as plt\n",
    "sns.boxplot(x=\"pack_price\",\n",
    "y=\"shipment_mode\",\n",
    "data=late_shipments)\n",
    "plt.show()"
   ]
  },
  {
   "attachments": {},
   "cell_type": "markdown",
   "metadata": {},
   "source": [
    "There certainly looks to be a difference in the pack price between each of the three shipment modes. Do you think the differences are statistically significant?"
   ]
  },
  {
   "attachments": {},
   "cell_type": "markdown",
   "metadata": {},
   "source": [
    "<b>4.2 Conducting an ANOVA test</b>\n",
    "\n",
    "The box plots made it look like the distribution of pack price was different for each of the three shipment modes. However, it didn't tell us whether the mean pack price was different in each category. To determine that, we can use an ANOVA test. The null and alternative hypotheses can be written as follows.\n",
    "\n",
    "<i>H<sub>o</sub></i> : Pack prices for every category of shipment mode are the same.\n",
    "\n",
    "<i>H<sub>A</sub></i> : Pack prices for some categories of shipment mode are different.\n",
    "\n",
    "Use a significance level of 0.1.\n",
    "\n",
    "late_shipments is available and pingouin has been loaded."
   ]
  },
  {
   "cell_type": "code",
   "execution_count": 28,
   "metadata": {},
   "outputs": [
    {
     "name": "stdout",
     "output_type": "stream",
     "text": [
      "          Source  ddof1  ddof2        F         p-unc       np2\n",
      "0  shipment_mode      2    997  21.8646  5.089479e-10  0.042018\n"
     ]
    },
    {
     "name": "stderr",
     "output_type": "stream",
     "text": [
      "C:\\Users\\yazan\\AppData\\Local\\Packages\\PythonSoftwareFoundation.Python.3.10_qbz5n2kfra8p0\\LocalCache\\local-packages\\Python310\\site-packages\\pingouin\\parametric.py:992: FutureWarning: Not prepending group keys to the result index of transform-like apply. In the future, the group keys will be included in the index, regardless of whether the applied function returns a like-indexed object.\n",
      "To preserve the previous behavior, use\n",
      "\n",
      "\t>>> .groupby(..., group_keys=False)\n",
      "\n",
      "To adopt the future behavior and silence this warning, use \n",
      "\n",
      "\t>>> .groupby(..., group_keys=True)\n",
      "  sserror = grp.apply(lambda x: (x - x.mean()) ** 2).sum()\n"
     ]
    }
   ],
   "source": [
    "# Run an ANOVA for pack_price across shipment_mode\n",
    "anova_results = pingouin.anova(data=late_shipments,\n",
    "dv='pack_price',\n",
    "between='shipment_mode')\n",
    "\n",
    "# Print anova_results\n",
    "print(anova_results)"
   ]
  }
 ],
 "metadata": {
  "kernelspec": {
   "display_name": "Python 3.10.8 64-bit (microsoft store)",
   "language": "python",
   "name": "python3"
  },
  "language_info": {
   "codemirror_mode": {
    "name": "ipython",
    "version": 3
   },
   "file_extension": ".py",
   "mimetype": "text/x-python",
   "name": "python",
   "nbconvert_exporter": "python",
   "pygments_lexer": "ipython3",
   "version": "3.10.9 (tags/v3.10.9:1dd9be6, Dec  6 2022, 20:01:21) [MSC v.1934 64 bit (AMD64)]"
  },
  "orig_nbformat": 4,
  "vscode": {
   "interpreter": {
    "hash": "cd85abab4e42ed52d78993b1b54e037968b74145d44eb01d9e116517c8fc42a2"
   }
  }
 },
 "nbformat": 4,
 "nbformat_minor": 2
}
