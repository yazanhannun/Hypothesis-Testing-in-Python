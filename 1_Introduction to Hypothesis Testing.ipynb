{
 "cells": [
  {
   "cell_type": "markdown",
   "metadata": {},
   "source": [
    "# Introduction to Hypothesis Testing"
   ]
  },
  {
   "cell_type": "markdown",
   "metadata": {},
   "source": [
    "# 1. Hypothesis tests and z-scores "
   ]
  },
  {
   "cell_type": "markdown",
   "metadata": {},
   "source": [
    "<b>1.1 Uses of A/B testing</b>\n",
    "\n",
    "A comapny used A/B testing on their website when launching a product. One version of the page showed an advertisement for a discount, and one version did not. Half the users saw one version of the page, and the other half saw the second version of the page.\n",
    "\n",
    "What is the main reason to use an A/B test?\n",
    "\n",
    "- It lets users vote on their preferred web page.\n",
    "\n",
    "- It allows you to only give discounts to half your users.\n",
    "\n",
    "- It is a method used to directly determine the sample size needed for your analysis.\n",
    "\n",
    "- It provides a way to check outcomes of competing scenarios and decide which way to proceed.  (True)\n",
    "\n",
    "- It reduces the number of errors in production.\n",
    "\n",
    "A/B testing lets you compare scenarios to see which best achieves some goal."
   ]
  }
 ],
 "metadata": {
  "kernelspec": {
   "display_name": "Python 3.10.8 64-bit (microsoft store)",
   "language": "python",
   "name": "python3"
  },
  "language_info": {
   "name": "python",
   "version": "3.10.8"
  },
  "orig_nbformat": 4,
  "vscode": {
   "interpreter": {
    "hash": "cd85abab4e42ed52d78993b1b54e037968b74145d44eb01d9e116517c8fc42a2"
   }
  }
 },
 "nbformat": 4,
 "nbformat_minor": 2
}
