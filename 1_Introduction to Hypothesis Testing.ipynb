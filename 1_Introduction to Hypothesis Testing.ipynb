{
 "cells": [
  {
   "cell_type": "markdown",
   "metadata": {},
   "source": [
    "# Introduction to Hypothesis Testing"
   ]
  },
  {
   "cell_type": "markdown",
   "metadata": {},
   "source": [
    "# 1. Hypothesis tests and z-scores "
   ]
  },
  {
   "cell_type": "markdown",
   "metadata": {},
   "source": [
    "<b>1.1 Uses of A/B testing</b>\n",
    "\n",
    "A comapny used A/B testing on their website when launching a product. One version of the page showed an advertisement for a discount, and one version did not. Half the users saw one version of the page, and the other half saw the second version of the page.\n",
    "\n",
    "What is the main reason to use an A/B test?\n",
    "\n",
    "- It lets users vote on their preferred web page.\n",
    "\n",
    "- It allows you to only give discounts to half your users.\n",
    "\n",
    "- It is a method used to directly determine the sample size needed for your analysis.\n",
    "\n",
    "- It provides a way to check outcomes of competing scenarios and decide which way to proceed.  (True)\n",
    "\n",
    "- It reduces the number of errors in production.\n",
    "\n",
    "A/B testing lets you compare scenarios to see which best achieves some goal."
   ]
  },
  {
   "cell_type": "markdown",
   "metadata": {},
   "source": [
    "<b>1.2 Calculating the sample mean</b>\n",
    "\n",
    "The late_shipments dataset contains supply chain data on the delivery of medical supplies. Each row represents one delivery of a part. The late columns denotes whether or not the part was delivered late. A value of \"Yes\" means that the part was delivered late, and a value of \"No\" means the part was delivered on time.\n",
    "\n",
    "You'll begin your analysis by calculating a point estimate (or sample statistic), namely the proportion of late shipments.\n",
    "\n",
    "In pandas, a value's proportion in a categorical DataFrame column can be quickly calculated using the syntax:\n",
    "\n",
    "```python:\n",
    "prop = (df['col'] == val).mean()\n",
    "```"
   ]
  },
  {
   "cell_type": "code",
   "execution_count": 2,
   "metadata": {},
   "outputs": [
    {
     "name": "stdout",
     "output_type": "stream",
     "text": [
      "        id       country managed_by  fulfill_via vendor_inco_term  \\\n",
      "0  36203.0       Nigeria   PMO - US  Direct Drop              EXW   \n",
      "1  30998.0      Botswana   PMO - US  Direct Drop              EXW   \n",
      "2  69871.0       Vietnam   PMO - US  Direct Drop              EXW   \n",
      "3  17648.0  South Africa   PMO - US  Direct Drop              DDP   \n",
      "4   5647.0        Uganda   PMO - US  Direct Drop              EXW   \n",
      "\n",
      "  shipment_mode  late_delivery late product_group    sub_classification  ...  \\\n",
      "0           Air            1.0  Yes          HRDT              HIV test  ...   \n",
      "1           Air            0.0   No          HRDT              HIV test  ...   \n",
      "2           Air            0.0   No           ARV                 Adult  ...   \n",
      "3         Ocean            0.0   No           ARV                 Adult  ...   \n",
      "4           Air            0.0   No          HRDT  HIV test - Ancillary  ...   \n",
      "\n",
      "  line_item_quantity line_item_value pack_price unit_price  \\\n",
      "0             2996.0       266644.00      89.00       0.89   \n",
      "1               25.0          800.00      32.00       1.60   \n",
      "2            22925.0       110040.00       4.80       0.08   \n",
      "3           152535.0       361507.95       2.37       0.04   \n",
      "4              850.0            8.50       0.01       0.00   \n",
      "\n",
      "             manufacturing_site first_line_designation  weight_kilograms  \\\n",
      "0       Alere Medical Co., Ltd.                    Yes            1426.0   \n",
      "1          Trinity Biotech, Plc                    Yes              10.0   \n",
      "2  Hetero Unit III Hyderabad IN                    Yes            3723.0   \n",
      "3     Aurobindo Unit III, India                    Yes            7698.0   \n",
      "4               Inverness Japan                    Yes              56.0   \n",
      "\n",
      "   freight_cost_usd  freight_cost_groups  line_item_insurance_usd  \n",
      "0          33279.83            expensive                   373.83  \n",
      "1            559.89           reasonable                     1.72  \n",
      "2          19056.13            expensive                   181.57  \n",
      "3          11372.23            expensive                   779.41  \n",
      "4            360.00           reasonable                     0.01  \n",
      "\n",
      "[5 rows x 27 columns]\n"
     ]
    }
   ],
   "source": [
    "import pandas as pd\n",
    "late_shipments = pd.read_feather('C:\\\\Users\\\\yazan\\\\Desktop\\\\Data_Analytics\\\\9-Introduction to Hypothesis Testing\\\\Datasets\\\\late_shipments.feather')\n",
    "print(late_shipments.head())"
   ]
  },
  {
   "cell_type": "code",
   "execution_count": 3,
   "metadata": {},
   "outputs": [
    {
     "name": "stdout",
     "output_type": "stream",
     "text": [
      "0.061\n"
     ]
    }
   ],
   "source": [
    "'''Calculate the proportion of late shipments in the sample; that is, the mean cases where \n",
    "the late column is \"Yes\".'''\n",
    "\n",
    "# Calculate the proportion of late shipments\n",
    "late_prop_samp = (late_shipments['late_delivery']==1).mean()\n",
    "\n",
    "# Print the results\n",
    "print(late_prop_samp)"
   ]
  },
  {
   "cell_type": "markdown",
   "metadata": {},
   "source": [
    "The proportion of late shipments in the sample is 0.061, or 6.1%."
   ]
  },
  {
   "cell_type": "markdown",
   "metadata": {},
   "source": [
    "1.3 Calculating a z-score\n",
    "\n",
    "Since variables have arbitrary ranges and units, we need to standardize them. For example, a hypothesis test that gave different answers if the variables were in Euros instead of US dollars would be of little value. Standardization avoids that.\n",
    "\n",
    "One standardized value of interest in a hypothesis test is called a z-score. To calculate it, you need three numbers: the sample statistic (point estimate), the hypothesized statistic, and the standard error of the statistic (estimated from the bootstrap distribution).\n",
    "\n",
    "The sample statistic is available as late_prop_samp.\n",
    "\n",
    "late_shipments_boot_distn is a bootstrap distribution of the proportion of late shipments, available as a list.\n",
    "\n",
    "pandas and numpy are loaded with their usual aliases."
   ]
  },
  {
   "cell_type": "code",
   "execution_count": 5,
   "metadata": {},
   "outputs": [
    {
     "name": "stdout",
     "output_type": "stream",
     "text": [
      "0.13221588287567415\n"
     ]
    }
   ],
   "source": [
    "late_shipments_boot_distn = []\n",
    "\n",
    "# Calculate the proportion of late shipments\n",
    "late_prop_samp = (late_shipments['late_delivery']==1).mean()\n",
    "\n",
    "import numpy as np\n",
    "\n",
    "# Step 3. Repeat steps 1 & 2 many times, appending to a list\n",
    "\n",
    "for i in range(5000):\n",
    "    late_shipments_boot_distn.append(\n",
    "    # Step 2. Calculate point estimate\n",
    "          np.mean(\n",
    "            # Step 1. Resample\n",
    "                late_shipments.sample(frac=1, replace=True)['late_delivery']\n",
    "                ))\n",
    "\n",
    "# Hypothesize that the proportion is 6%\n",
    "late_prop_hyp = 0.06\n",
    "\n",
    "# Calculate the standard error\n",
    "std_error = np.std(late_shipments_boot_distn, ddof=1)\n",
    "\n",
    "# Find z-score of late_prop_samp\n",
    "z_score = ((late_shipments['late_delivery']==1).mean() - late_prop_hyp)/std_error\n",
    "\n",
    "# Print z_score\n",
    "print(z_score)"
   ]
  }
 ],
 "metadata": {
  "kernelspec": {
   "display_name": "Python 3.10.8 64-bit (microsoft store)",
   "language": "python",
   "name": "python3"
  },
  "language_info": {
   "codemirror_mode": {
    "name": "ipython",
    "version": 3
   },
   "file_extension": ".py",
   "mimetype": "text/x-python",
   "name": "python",
   "nbconvert_exporter": "python",
   "pygments_lexer": "ipython3",
   "version": "3.10.8"
  },
  "orig_nbformat": 4,
  "vscode": {
   "interpreter": {
    "hash": "cd85abab4e42ed52d78993b1b54e037968b74145d44eb01d9e116517c8fc42a2"
   }
  }
 },
 "nbformat": 4,
 "nbformat_minor": 2
}
