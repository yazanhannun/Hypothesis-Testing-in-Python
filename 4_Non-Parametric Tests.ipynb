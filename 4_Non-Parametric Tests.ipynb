{
 "cells": [
  {
   "attachments": {},
   "cell_type": "markdown",
   "metadata": {},
   "source": [
    "# Non-Parametric Tests"
   ]
  },
  {
   "attachments": {},
   "cell_type": "markdown",
   "metadata": {},
   "source": [
    "# 1. Assumptions in hypothesis testing"
   ]
  },
  {
   "attachments": {},
   "cell_type": "markdown",
   "metadata": {},
   "source": [
    "<b>1.1 Common assumptions of hypothesis tests</b>\n",
    "\n",
    "Hypothesis tests make assumptions about the dataset that they are testing, and the conclusions you draw from the test results are only valid if those assumptions hold. While some assumptions differ between types of test, others are common to all hypothesis tests.\n",
    "\n",
    "Which of the following statements is a common assumption of hypothesis tests?\n",
    "\n",
    "Possible Answers\n",
    "\n",
    "- Sample observations are collected deterministically from the population.\n",
    "\n",
    "- Sample observations are correlated with each other.\n",
    "\n",
    "- <b><font color ='green'>Sample observations have no direct relationship with each other.</font></b>\n",
    "\n",
    "- Sample sizes are greater than thirty observations.\n",
    "\n",
    "All hypothesis tests assume that the data are collected at random from the population, that each row is independent of the others, and that the sample size is \"big enough\".."
   ]
  },
  {
   "attachments": {},
   "cell_type": "markdown",
   "metadata": {},
   "source": [
    "<b>1.2 Testing sample size</b>\n",
    "\n",
    "In order to conduct a hypothesis test and be sure that the result is fair, a sample must meet three requirements: it is a random sample of the population, the observations are independent, and there are enough observations. Of these, only the last condition is easily testable with code.\n",
    "\n",
    "The minimum sample size depends on the type of hypothesis tests you want to perform. You'll now test some scenarios on the late_shipments dataset.\n",
    "\n",
    "Note that the .all() method from pandas can be used to check if all elements are true. For example, given a DataFrame df with numeric entries, you check to see if all its elements are less than 5, using (df < 5).all()."
   ]
  },
  {
   "cell_type": "code",
   "execution_count": 16,
   "metadata": {},
   "outputs": [],
   "source": [
    "import pandas as pd\n",
    "late_shipments = pd.read_feather(\"C:\\\\Users\\\\yazan\\\\Desktop\\\\Data_Analytics\\\\9-Introduction to Hypothesis Testing\\\\Datasets\\\\late_shipments.feather\")"
   ]
  },
  {
   "cell_type": "code",
   "execution_count": 17,
   "metadata": {},
   "outputs": [
    {
     "name": "stdout",
     "output_type": "stream",
     "text": [
      "expensive     531\n",
      "reasonable    455\n",
      "Name: freight_cost_groups, dtype: int64\n",
      "True\n"
     ]
    }
   ],
   "source": [
    "'''Get the count of each value in the freight_cost_group column of late_shipments.\n",
    "Insert a suitable number to inspect whether the counts are \"big enough\" for a two sample t-test.'''\n",
    "\n",
    "# Count the freight_cost_group values\n",
    "counts = late_shipments['freight_cost_groups'].value_counts()\n",
    "\n",
    "# Print the result\n",
    "print(counts)\n",
    "\n",
    "# Inspect whether the counts are big enough\n",
    "print((counts >= 30).all())"
   ]
  },
  {
   "cell_type": "code",
   "execution_count": 18,
   "metadata": {},
   "outputs": [
    {
     "name": "stdout",
     "output_type": "stream",
     "text": [
      "No     939\n",
      "Yes     61\n",
      "Name: late, dtype: int64\n",
      "True\n"
     ]
    }
   ],
   "source": [
    "'''Get the count of each value in the late column of late_shipments.\n",
    "Insert a suitable number to inspect whether the counts are \"big enough\" for a one sample proportion test.'''\n",
    "\n",
    "# Count the late values\n",
    "counts = late_shipments['late'].value_counts()\n",
    "\n",
    "# Print the result\n",
    "print(counts)\n",
    "\n",
    "# Inspect whether the counts are big enough\n",
    "print((counts >= 10).all())"
   ]
  },
  {
   "cell_type": "code",
   "execution_count": 19,
   "metadata": {},
   "outputs": [
    {
     "name": "stdout",
     "output_type": "stream",
     "text": [
      "vendor_inco_term  freight_cost_groups\n",
      "CIP               reasonable              34\n",
      "                  expensive               16\n",
      "DDP               expensive               55\n",
      "                  reasonable              45\n",
      "DDU               reasonable               1\n",
      "EXW               expensive              423\n",
      "                  reasonable             302\n",
      "FCA               reasonable              73\n",
      "                  expensive               37\n",
      "Name: freight_cost_groups, dtype: int64\n",
      "False\n"
     ]
    }
   ],
   "source": [
    "'''Get the count of each value in the freight_cost_group column of late_shipments grouped by vendor_inco_term.\n",
    "Insert a suitable number to inspect whether the counts are \"big enough\" for a chi-square independence test.'''\n",
    "# Count the values of freight_cost_group grouped by vendor_inco_term\n",
    "counts = late_shipments.groupby('vendor_inco_term')['freight_cost_groups'].value_counts()\n",
    "\n",
    "# Print the result\n",
    "print(counts)\n",
    "\n",
    "# Inspect whether the counts are big enough\n",
    "print((counts >= 5).all())"
   ]
  },
  {
   "cell_type": "code",
   "execution_count": 20,
   "metadata": {},
   "outputs": [
    {
     "name": "stdout",
     "output_type": "stream",
     "text": [
      "Air            906\n",
      "Ocean           88\n",
      "Air Charter      6\n",
      "Name: shipment_mode, dtype: int64\n",
      "False\n"
     ]
    }
   ],
   "source": [
    "'''Get the count of each value in the shipment_mode column of late_shipments.\n",
    "Insert a suitable number to inspect whether the counts are \"big enough\" for an ANOVA test.'''\n",
    "\n",
    "# Count the shipment_mode values\n",
    "counts = late_shipments['shipment_mode'].value_counts()\n",
    "\n",
    "# Print the result\n",
    "print(counts)\n",
    "\n",
    "# Inspect whether the counts are big enough\n",
    "print((counts >= 30).all())"
   ]
  },
  {
   "attachments": {},
   "cell_type": "markdown",
   "metadata": {},
   "source": [
    "While randomness and independence of observations can't easily be tested programmatically, you can test that your sample sizes are big enough to make a hypothesis test appropriate. Based on the last result, we should be a little cautious of the ANOVA test results given the small sample size for Air Charter."
   ]
  },
  {
   "attachments": {},
   "cell_type": "markdown",
   "metadata": {},
   "source": [
    "# 2. Non-parametric tests"
   ]
  }
 ],
 "metadata": {
  "kernelspec": {
   "display_name": "Python 3",
   "language": "python",
   "name": "python3"
  },
  "language_info": {
   "codemirror_mode": {
    "name": "ipython",
    "version": 3
   },
   "file_extension": ".py",
   "mimetype": "text/x-python",
   "name": "python",
   "nbconvert_exporter": "python",
   "pygments_lexer": "ipython3",
   "version": "3.10.9"
  },
  "orig_nbformat": 4,
  "vscode": {
   "interpreter": {
    "hash": "cd85abab4e42ed52d78993b1b54e037968b74145d44eb01d9e116517c8fc42a2"
   }
  }
 },
 "nbformat": 4,
 "nbformat_minor": 2
}
